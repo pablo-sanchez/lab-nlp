{
  "cells": [
    {
      "cell_type": "markdown",
      "metadata": {
        "id": "5fh4rCLr0tet"
      },
      "source": [
        "# Challenge 1: Prepare Textual Data for Analysis\n",
        "\n",
        "In this challenge, we will walk you through how to prepare raw text data for NLP analysis. Due to time limitation, we will cover **text cleaning, tokenization, stemming, lemmatization, and stop words removal** but skip POS tags, named entity recognition, and trunking. The latter 3 steps are more advanced and not required for our next challenge on sentiment analysis. \n",
        "\n",
        "## Objectives\n",
        "\n",
        "* Learn how to prepare text data for NLP analysis in Python\n",
        "* Write the functions you will use in Challenge 3 for cleaning, tokenizing, stemming, and lemmatizing data."
      ]
    },
    {
      "cell_type": "markdown",
      "metadata": {
        "id": "0p3kjPBR0tex"
      },
      "source": [
        "## Text Cleaning\n",
        "\n",
        "Text cleaning is also called text cleansing. The goal is to clean up the messy real-world textual data in order to improve the text analysis accuracy at later steps. For generic textual data sources, we usually need to fix the following problems:\n",
        "\n",
        "* Missing values\n",
        "* Special characters\n",
        "* Numbers\n",
        "\n",
        "For web data, we need to additinally fix:\n",
        "\n",
        "* HTML tags\n",
        "* JavaScripts\n",
        "* CSS\n",
        "* URLs\n",
        "\n",
        "Case by case, there may also be special problems we need to fix for certain types of data. For instance, for Twitter tweets data we need to fix hashtags and the Twitter handler including a *@* sign and Twitter usernames.\n",
        "\n",
        "In addition, we also need to convert the texts to lower cases so that when we anaylize the words later, NLTK will not think *Ironhack* and *ironhack* mean different things.\n",
        "\n",
        "Note that the above are the general steps to clean up data for NLP analysis. In specific cases, not all those steps apply. For example, if you are analyzing textual data on history, you probably don't want to remove numbers because numbers (such as years and dates) are important in history. Besides, if you are doing something like network analysis on web data, you may want to retain hyperlinks so that you will be able to extract the outbounding links in the next steps. Sometimes you may also need to do some cleaning first, then extract some features, then do more cleaning, then extract more features. You'll have to make these judgments by yourself case by case. \n",
        "\n",
        "In this challenge we are keeping things relatively simple so **you only need to clean up special characters, numbers, and URLs**. Let's say you have the following messy string to clean up:\n",
        "\n",
        "```\n",
        "@Ironhack's-#Q website 776-is http://ironhack.com [(2018)]\")\n",
        "```\n",
        "\n",
        "You will write a function, which will be part of you NLP analysis pipeline in the next challenge, to clean up strings like above and output:\n",
        "\n",
        "```\n",
        "ironhack s  q website  is\n",
        "```\n",
        "\n",
        "**In the cell below, write a function called `clean_up`**. Test your function with the above string and make sure you receive the expected output.\n",
        "\n",
        "*Notes:*\n",
        "\n",
        "* Use regular expressions to identify URL patterns and remove URLs.\n",
        "\n",
        "* You don't want to replace special characters/numbers with an empty string. Because that will join words that shouldn't be joined. For instance, if you replace the `'` in `you're`, you will get `youre` which is undesirable. So instead, replace special characters and numbers with a whitespace.\n",
        "\n",
        "* The order matters in terms of what to clean before others. For example, if you clean special characters before URLs, it will be difficult to identify the URLs patterns.\n",
        "\n",
        "* Don't worry about single letters and multiple whitespaces in your returned string. In our next steps those issues will be fixed."
      ]
    },
    {
      "cell_type": "code",
      "source": [
        "import numpy as np\n",
        "import pandas as pd\n",
        "from bs4 import BeautifulSoup\n",
        "import re\n",
        "import nltk\n",
        "nltk.download('punkt')\n",
        "nltk.download('wordnet')\n",
        "nltk.download('stopwords')\n",
        "from nltk.corpus import stopwords"
      ],
      "metadata": {
        "colab": {
          "base_uri": "https://localhost:8080/"
        },
        "id": "wBoQr78DC0sg",
        "outputId": "2d52a03c-79f7-4ab4-ee28-9b647bd465f4"
      },
      "execution_count": 1,
      "outputs": [
        {
          "output_type": "stream",
          "name": "stderr",
          "text": [
            "[nltk_data] Downloading package punkt to /root/nltk_data...\n",
            "[nltk_data]   Unzipping tokenizers/punkt.zip.\n",
            "[nltk_data] Downloading package wordnet to /root/nltk_data...\n",
            "[nltk_data] Downloading package stopwords to /root/nltk_data...\n",
            "[nltk_data]   Unzipping corpora/stopwords.zip.\n"
          ]
        }
      ]
    },
    {
      "cell_type": "code",
      "execution_count": 2,
      "metadata": {
        "id": "ApdtZ0b_0tez"
      },
      "outputs": [],
      "source": [
        "def clean_up(s):\n",
        "    \"\"\"\n",
        "    Cleans up numbers, URLs, and special characters from a string.\n",
        "\n",
        "    Args:\n",
        "        s: The string to be cleaned up.\n",
        "\n",
        "    Returns:\n",
        "        A string that has been cleaned up.\n",
        "    \"\"\"\n",
        "    clean_str = s\n",
        "    clean_str = clean_str.lower()\n",
        "    # Replace urls by ''\n",
        "    clean_str = re.sub(r'(http|https|ftp|ssh)://([\\w_-]+(?:(?:\\.[\\w_-]+)+))([\\w.,@?^=%&:/~+#-]*[\\w@?^=%&/~+#-])?', ' ' , clean_str) \n",
        "    # Replace html tags by ''\n",
        "    clean_str = BeautifulSoup(clean_str, 'lxml').get_text().strip()\n",
        "    clean_str = re.sub(r'\\W+',' ',clean_str) # Replace everything non-alpahnumeric by ' '\n",
        "    clean_str = re.sub(r'\\s+',' ',clean_str) # Replace one or more whitespaces by  ' '\n",
        "    clean_str = re.sub(r'\\d+',' ',clean_str) # Replace one or more digits by  ' '\n",
        "    return clean_str"
      ]
    },
    {
      "cell_type": "code",
      "source": [
        "string = \"\"\"@Ironhack's-#Q website 776-is http://ironhack.com [(2018)]\")\"\"\"\n",
        "sring_cleaned = clean_up(string)\n",
        "sring_cleaned"
      ],
      "metadata": {
        "colab": {
          "base_uri": "https://localhost:8080/",
          "height": 35
        },
        "id": "0T7bqSlLGRwA",
        "outputId": "bff8c6fd-d47d-4255-d32e-a72e682a4fec"
      },
      "execution_count": 3,
      "outputs": [
        {
          "output_type": "execute_result",
          "data": {
            "text/plain": [
              "' ironhack s q website   is   '"
            ],
            "application/vnd.google.colaboratory.intrinsic+json": {
              "type": "string"
            }
          },
          "metadata": {},
          "execution_count": 3
        }
      ]
    },
    {
      "cell_type": "markdown",
      "metadata": {
        "id": "CWE-gNF_0te2"
      },
      "source": [
        "## Tokenization\n",
        "\n",
        "We have actually discussed the concept of tokenization in the Bag of Words lab before. In that lab, we did both tokenization and calculated the [matrix of document-term frequency](https://en.wikipedia.org/wiki/Document-term_matrix). In this lab, we only need tokenization.\n",
        "\n",
        "In the cell below, write a function called **`tokenize`** to convert a string to a list of words. We'll use the string we received in the previous step *`ironhack s  q website  is`* to test your function. Your function shoud return:\n",
        "\n",
        "```python\n",
        "['ironhack', 's', 'q', 'website', 'is']\n",
        "```\n",
        "\n",
        "*Hint: use the `word_tokenize` function in NLTK.*"
      ]
    },
    {
      "cell_type": "code",
      "execution_count": 4,
      "metadata": {
        "id": "gPB0ZBy80te3"
      },
      "outputs": [],
      "source": [
        "def tokenize(s):\n",
        "    \"\"\"\n",
        "    Tokenize a string.\n",
        "\n",
        "    Args:\n",
        "        s: String to be tokenized.\n",
        "\n",
        "    Returns:\n",
        "        A list of words as the result of tokenization.\n",
        "    \"\"\"\n",
        "    tokens = nltk.word_tokenize(s)\n",
        "    return tokens"
      ]
    },
    {
      "cell_type": "code",
      "source": [
        "token_list = tokenize(sring_cleaned)\n",
        "token_list "
      ],
      "metadata": {
        "colab": {
          "base_uri": "https://localhost:8080/"
        },
        "id": "UPv5h3OtLQx_",
        "outputId": "9c0938ad-7dc1-483d-83c3-ff1ee018cc06"
      },
      "execution_count": 5,
      "outputs": [
        {
          "output_type": "execute_result",
          "data": {
            "text/plain": [
              "['ironhack', 's', 'q', 'website', 'is']"
            ]
          },
          "metadata": {},
          "execution_count": 5
        }
      ]
    },
    {
      "cell_type": "markdown",
      "metadata": {
        "id": "SqQT9mMM0te4"
      },
      "source": [
        "## Stemming and Lemmatization\n",
        "\n",
        "We will do stemming and lemmatization in the same step because otherwise we'll have to loop each token lists twice. You have learned in the previous challenge that stemming and lemmatization are similar but have different purposes for text normalization:\n",
        "\n",
        "**Stemming reduces words to their root forms (stems) even if the stem itself is not a valid word**. For instance, *token*, *tokenize*, and *tokenization* will be reduced to the same stem - *token*. And *change*, *changed*, *changing* will be reduced to *chang*.\n",
        "\n",
        "In NLTK, there are three stemming libraries: [*Porter*](https://www.nltk.org/_modules/nltk/stem/porter.html), [*Snowball*](https://www.nltk.org/_modules/nltk/stem/snowball.html), and [*Lancaster*](https://www.nltk.org/_modules/nltk/stem/lancaster.html). The difference among the three is the agressiveness with which they perform stemming. Porter is the most gentle stemmer that preserves the word's original form if it has doubts. In contrast, Lancaster is the most aggressive one that sometimes produces wrong outputs. And Snowball is in between. **In most cases you will use either Porter or Snowball**.\n",
        "\n",
        "**Lemmatization differs from stemming in that lemmatization cares about whether the reduced form belongs to the target language and it often requires the context (i.e. POS or parts-of-speech) in order to perform the correct transformation**. For example, the [*Word Net lemmatizer* in NLTK](https://www.nltk.org/_modules/nltk/stem/wordnet.html) yields different results with and without being told that *was* is a verb:\n",
        "\n",
        "```python\n",
        ">>> from nltk.stem import WordNetLemmatizer\n",
        ">>> lemmatizer = WordNetLemmatizer()\n",
        ">>> lemmatizer.lemmatize('was')\n",
        "'wa'\n",
        ">>> lemmatizer.lemmatize('runs', pos='v')\n",
        "'be'\n",
        "```\n",
        "\n",
        "In the cell below, import the necessary libraries and define a function called `stem_and_lemmatize` that performs both stemming and lemmatization on a list of words. Don't worry about the POS part of lemmatization for now."
      ]
    },
    {
      "cell_type": "code",
      "source": [
        "wordfreq = {} # A dictionary to hold as keys every single word, and the value is how many times appears the word.\n",
        "\n",
        "for word in token_list:\n",
        "  if ( word not in wordfreq.keys() ):\n",
        "    wordfreq[word] = 1 # We initialize the corresponding counter\n",
        "  else:\n",
        "    wordfreq[word] += 1 # We increase the corresponding counter\n",
        "\n",
        "wordfreq"
      ],
      "metadata": {
        "colab": {
          "base_uri": "https://localhost:8080/"
        },
        "id": "teq-yQBXS6EO",
        "outputId": "1ebf943c-d3d3-465c-b30f-f9adb4c58bc8"
      },
      "execution_count": 6,
      "outputs": [
        {
          "output_type": "execute_result",
          "data": {
            "text/plain": [
              "{'ironhack': 1, 's': 1, 'q': 1, 'website': 1, 'is': 1}"
            ]
          },
          "metadata": {},
          "execution_count": 6
        }
      ]
    },
    {
      "cell_type": "code",
      "source": [
        "count_string = [(key,wordfreq[key]) for key in list(wordfreq.keys())]\n",
        "count_string"
      ],
      "metadata": {
        "colab": {
          "base_uri": "https://localhost:8080/"
        },
        "id": "nq79O_7_S9t2",
        "outputId": "a95322cd-d444-48fa-828f-6f1fc5c9e681"
      },
      "execution_count": 7,
      "outputs": [
        {
          "output_type": "execute_result",
          "data": {
            "text/plain": [
              "[('ironhack', 1), ('s', 1), ('q', 1), ('website', 1), ('is', 1)]"
            ]
          },
          "metadata": {},
          "execution_count": 7
        }
      ]
    },
    {
      "cell_type": "code",
      "source": [
        "from nltk.stem import PorterStemmer, WordNetLemmatizer\n",
        "nltk.download('omw-1.4')"
      ],
      "metadata": {
        "colab": {
          "base_uri": "https://localhost:8080/"
        },
        "id": "Yel8kWHgU4me",
        "outputId": "b6ee6c01-93c3-4b9b-946f-456c342e3c37"
      },
      "execution_count": 8,
      "outputs": [
        {
          "output_type": "stream",
          "name": "stderr",
          "text": [
            "[nltk_data] Downloading package omw-1.4 to /root/nltk_data...\n"
          ]
        },
        {
          "output_type": "execute_result",
          "data": {
            "text/plain": [
              "True"
            ]
          },
          "metadata": {},
          "execution_count": 8
        }
      ]
    },
    {
      "cell_type": "code",
      "execution_count": 9,
      "metadata": {
        "id": "DbBHq_oX0te4"
      },
      "outputs": [],
      "source": [
        "def stem_and_lemmatize(l):\n",
        "    \"\"\"\n",
        "    Perform stemming and lemmatization on a list of words.\n",
        "\n",
        "    Args:\n",
        "        l: A list of strings.\n",
        "\n",
        "    Returns:\n",
        "        A list of strings after being stemmed and lemmatized.\n",
        "    \"\"\"\n",
        "    port = PorterStemmer()\n",
        "    stem = [(port.stem(word[0]),word[1]) for word in l]\n",
        "    \n",
        "    lem = WordNetLemmatizer()\n",
        "\n",
        "    stem_lem = [(lem.lemmatize(word[0]),word[1]) for word in stem]\n",
        "    \n",
        "    return stem_lem"
      ]
    },
    {
      "cell_type": "code",
      "source": [
        "stem_and_lemmatize(count_string)"
      ],
      "metadata": {
        "colab": {
          "base_uri": "https://localhost:8080/"
        },
        "id": "6TkcL6xJV6_e",
        "outputId": "35d0aac1-35ec-4354-9d07-5c82fdf00479"
      },
      "execution_count": 10,
      "outputs": [
        {
          "output_type": "execute_result",
          "data": {
            "text/plain": [
              "[('ironhack', 1), ('s', 1), ('q', 1), ('websit', 1), ('is', 1)]"
            ]
          },
          "metadata": {},
          "execution_count": 10
        }
      ]
    },
    {
      "cell_type": "markdown",
      "metadata": {
        "id": "jslyR0kx0te5"
      },
      "source": [
        "## Stop Words Removal\n",
        "\n",
        "Stop Words are the most commonly used words in a language that don't contribute to the main meaning of the texts. Examples of English stop words are `i`, `me`, `is`, `and`, `the`, `but`, and `here`. We want to remove stop words from analysis because otherwise stop words will take the overwhelming portion in our tokenized word list and the NLP algorithms will have problems in identifying the truely important words.\n",
        "\n",
        "NLTK has a `stopwords` package that allows us to import the most common stop words in over a dozen langauges including English, Spanish, French, German, Dutch, Portuguese, Italian, etc. These are the bare minimum stop words (100-150 words in each language) that can get beginners started. Some other NLP packages such as [*stop-words*](https://pypi.org/project/stop-words/) and [*wordcloud*](https://amueller.github.io/word_cloud/generated/wordcloud.WordCloud.html) provide bigger lists of stop words.\n",
        "\n",
        "Now in the cell below, create a function called `remove_stopwords` that loop through a list of words that have been stemmed and lemmatized to check and remove stop words. Return a new list where stop words have been removed."
      ]
    },
    {
      "cell_type": "code",
      "source": [
        "token_list"
      ],
      "metadata": {
        "colab": {
          "base_uri": "https://localhost:8080/"
        },
        "id": "PZPARd7cYUPj",
        "outputId": "93023d39-f485-489e-a60d-dee7851a6540"
      },
      "execution_count": 11,
      "outputs": [
        {
          "output_type": "execute_result",
          "data": {
            "text/plain": [
              "['ironhack', 's', 'q', 'website', 'is']"
            ]
          },
          "metadata": {},
          "execution_count": 11
        }
      ]
    },
    {
      "cell_type": "code",
      "execution_count": 12,
      "metadata": {
        "id": "hyqRMJIv0te6"
      },
      "outputs": [],
      "source": [
        "def remove_stopwords(l):\n",
        "    \"\"\"\n",
        "    Remove English stopwords from a list of strings.\n",
        "\n",
        "    Args:\n",
        "        l: A list of strings.\n",
        "\n",
        "    Returns:\n",
        "        A list of strings after stop words are removed.\n",
        "    \"\"\"\n",
        "    stop_words = list(stopwords.words('english'))\n",
        "    \n",
        "    new_list = [word for word in l if word not in stop_words]\n",
        "    return new_list"
      ]
    },
    {
      "cell_type": "code",
      "source": [
        "remove_stopwords(token_list)"
      ],
      "metadata": {
        "colab": {
          "base_uri": "https://localhost:8080/"
        },
        "id": "3rUzDMQBXzn4",
        "outputId": "e500a0ea-1ba2-4ee7-e3a1-4123fcc4770c"
      },
      "execution_count": 13,
      "outputs": [
        {
          "output_type": "execute_result",
          "data": {
            "text/plain": [
              "['ironhack', 'q', 'website']"
            ]
          },
          "metadata": {},
          "execution_count": 13
        }
      ]
    },
    {
      "cell_type": "markdown",
      "metadata": {
        "id": "_kIHhkqn0te6"
      },
      "source": [
        "## Summary\n",
        "\n",
        "In this challenge you have learned several text preparation techniques in more depths including text cleaning, tokenization, stemming, lemmatization, and stopwords removal. You have also written the functions you will be using in the next challenge to prepare texts for NLP analysis. Now we are ready to move on to the next challenge - Sentiment Analysis."
      ]
    }
  ],
  "metadata": {
    "kernelspec": {
      "display_name": "Python 3",
      "language": "python",
      "name": "python3"
    },
    "language_info": {
      "codemirror_mode": {
        "name": "ipython",
        "version": 3
      },
      "file_extension": ".py",
      "mimetype": "text/x-python",
      "name": "python",
      "nbconvert_exporter": "python",
      "pygments_lexer": "ipython3",
      "version": "3.7.3"
    },
    "colab": {
      "provenance": []
    }
  },
  "nbformat": 4,
  "nbformat_minor": 0
}